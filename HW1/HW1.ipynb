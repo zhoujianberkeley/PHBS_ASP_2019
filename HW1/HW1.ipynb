{
 "cells": [
  {
   "cell_type": "markdown",
   "metadata": {},
   "source": [
    "# HW 1: Corporate Bond Pricing (due by 9.17 Tues)"
   ]
  },
  {
   "cell_type": "markdown",
   "metadata": {},
   "source": [
    "We are going to compute the price of a corporate bond (subject to default) with Monte-Carlo simulation. Assume that \n",
    "* the default time of a company follows the exponential distribution with intensity $\\lambda=$__`def_rate`__. \n",
    "* the riskfree interest rate is $r_f=$__`rf_rate`__ and the maturity of the bond is $T=$__`mat`__. \n",
    "* in the case of default, you can recover some portion ($R=$__`recovery_rate`__) of the face value.\n",
    "* the coupon is 0%, i.e., it is a zero-coupon bond.\n",
    "* the face value of the bond is 1.0\n",
    "* use compound rate for discounting; the price of the default-free bond is $e^{-r_f T}$\n",
    "\n",
    "The Problem 1 of the [2017 ASP Midterm Exam](../files/ASP2017_Midterm.pdf) will be helpful.\n",
    "\n",
    "### Instruction to upload your HW\n",
    "* Create a repository named __`PHBS_ASP_2019`__ (and clone it to your PC)\n",
    "* Copy this file to __`PHBS_ASP_2019/HW1/HW1.ipynb`__  (Please use the same name for repository and ipynb file)\n",
    "* Add solution code.\n",
    "* Run your your code to make sure that there's no error.\n",
    "* Upload (commit and sync) your file."
   ]
  },
  {
   "cell_type": "markdown",
   "metadata": {},
   "source": [
    "### 1. First, let's create a pricing function and check the std "
   ]
  },
  {
   "cell_type": "code",
   "execution_count": 1,
   "metadata": {},
   "outputs": [],
   "source": [
    "import numpy as np"
   ]
  },
  {
   "cell_type": "code",
   "execution_count": 2,
   "metadata": {},
   "outputs": [],
   "source": [
    "def_rate = 0.1\n",
    "rf_rate = 0.03\n",
    "recovery = 0.3\n",
    "mat = 10"
   ]
  },
  {
   "cell_type": "markdown",
   "metadata": {},
   "source": []
  },
  {
   "cell_type": "code",
   "execution_count": 3,
   "metadata": {},
   "outputs": [
    {
     "data": {
      "text/plain": [
       "(10.074020908411283, 10.0)"
      ]
     },
     "execution_count": 3,
     "metadata": {},
     "output_type": "execute_result"
    }
   ],
   "source": [
    "# First generate exponential random numbers\n",
    "# Although you can generate directly using fault_time = np.random.exponential(scale=), let's use uniform random numbers.\n",
    "n_sample = 10000\n",
    "U = np.random.uniform(size=n_sample)\n",
    "default_time = -(1/def_rate)*np.log(U)\n",
    "\n",
    "# You can check if the RNs are correct by comparing the means\n",
    "(default_time.mean(), 1/def_rate)"
   ]
  },
  {
   "cell_type": "code",
   "execution_count": 4,
   "metadata": {},
   "outputs": [
    {
     "name": "stdout",
     "output_type": "stream",
     "text": [
      "mean : 0.4401601964025981\n",
      "standard deviation : 0.002361120816381905\n"
     ]
    }
   ],
   "source": [
    "# Put your code here to price the corporate bond\n",
    "\n",
    "def corp_bond(mat=1, def_rate=0.03, rf_rate=0.04, recovery=0.3, n_sample=1e4):\n",
    "    U = np.random.uniform(size=n_sample)\n",
    "    default_time = -(1/def_rate)*np.log(U)\n",
    "    no_defaut = sum(default_time > mat)*np.exp(-rf_rate*mat)\n",
    "    defaut = sum(np.exp(-rf_rate*default_time[default_time < mat]) * recovery)\n",
    "    return (no_defaut + defaut)/ n_sample\n",
    "\n",
    "# Call your function\n",
    "corp_bond(mat, def_rate, rf_rate, recovery, n_sample)\n",
    "\n",
    "# Find the mean and std by calling the function 100 times. \n",
    "corp_values = []\n",
    "for i in range(100):\n",
    "     corp_values.append(corp_bond(mat, def_rate, rf_rate, recovery, n_sample))\n",
    "print(\"mean :\", np.mean(corp_values))\n",
    "print(\"standard deviation :\", np.std(corp_values))\n"
   ]
  },
  {
   "cell_type": "markdown",
   "metadata": {},
   "source": [
    "### 2. Now, let's improve the function by reducing the MC variations.\n",
    "1. Use antithetic method: If `U` is uniform random variable, so is `1-U`\n",
    "2. Also shift the RNs to match the mean, `1/def_rate`"
   ]
  },
  {
   "cell_type": "code",
   "execution_count": 5,
   "metadata": {},
   "outputs": [
    {
     "data": {
      "text/plain": [
       "(9.999999999999996, 10.0)"
      ]
     },
     "execution_count": 5,
     "metadata": {},
     "output_type": "execute_result"
    }
   ],
   "source": [
    "# For example, antithetic method mean\n",
    "n_sample = 10000\n",
    "U = np.random.uniform(size=round(n_sample/2))\n",
    "default_time = -(1/def_rate)*np.log(np.concatenate((U,1-U),axis=0))\n",
    "\n",
    "# Mean-matching means\n",
    "default_time += 1/def_rate-default_time.mean()\n",
    "(default_time.mean(), 1/def_rate)"
   ]
  },
  {
   "cell_type": "code",
   "execution_count": 6,
   "metadata": {},
   "outputs": [
    {
     "name": "stdout",
     "output_type": "stream",
     "text": [
      "antithetic \n",
      " mean : 0.44013326826775206 \n",
      " standard deviation : 0.0018041991059442393\n",
      "mean match \n",
      " mean : 0.44028722639667 \n",
      " standard deviation : 0.0016075157803874223\n",
      "both \n",
      " mean : 0.4405095917510037 \n",
      " standard deviation : 0.001609805012397031\n"
     ]
    }
   ],
   "source": [
    "# No include the two new features: `antithetic` and `mean_match`\n",
    "\n",
    "def corp_bond_cv(mat=1, def_rate=0.03, rf_rate=0.04, recovery=0.3, n_sample=1e4, antithetic=True, mean_match=True):\n",
    "    ### <--\n",
    "    assert n_sample%2 == 0, \"n_sample must be even for antithetic method\"\n",
    "    if antithetic and not mean_match:\n",
    "        U = np.random.uniform(size=round(n_sample/2))\n",
    "        default_time = -(1/def_rate)*np.log(np.concatenate((U,1-U),axis=0))\n",
    "    elif mean_match and not antithetic:\n",
    "        U = np.random.uniform(size=round(n_sample))\n",
    "        default_time = -(1/def_rate)*np.log(U)\n",
    "        default_time += 1/def_rate-default_time.mean()\n",
    "    elif mean_match and antithetic:\n",
    "        U = np.random.uniform(size=round(n_sample/2))\n",
    "        default_time = -(1/def_rate)*np.log(np.concatenate((U,1-U),axis=0))\n",
    "        default_time += 1/def_rate-default_time.mean()\n",
    "    else:\n",
    "        U = np.random.uniform(size=round(n_sample))\n",
    "        default_time = -(1/def_rate)*np.log(U)\n",
    "    \n",
    "    no_defaut = sum(default_time > mat)*np.exp(-rf_rate*mat)\n",
    "    defaut = sum(np.exp(-rf_rate*default_time[default_time < mat]) * recovery)    \n",
    "    return (no_defaut + defaut)/ n_sample\n",
    "\n",
    "# Find the mean and std by calling the function 100 times for (i) antithetic (ii) mean_match and (iii) both\n",
    "anti_values, mean_values, both_values = [], [], []\n",
    "for i in range(100):\n",
    "    anti_values.append(corp_bond_cv(mat, def_rate, rf_rate, recovery, n_sample, antithetic=True, mean_match=False))\n",
    "    mean_values.append(corp_bond_cv(mat, def_rate, rf_rate, recovery, n_sample, antithetic=False, mean_match=True))\n",
    "    both_values.append(corp_bond_cv(mat, def_rate, rf_rate, recovery, n_sample, antithetic=True, mean_match=True))\n",
    "\n",
    "for lst, method in zip([anti_values, mean_values, both_values], ['antithetic', 'mean match', 'both']):\n",
    "    print(method, \"\\n\", \"mean :\", np.mean(lst), \"\\n\", \"standard deviation :\", np.std(lst))"
   ]
  },
  {
   "cell_type": "markdown",
   "metadata": {
    "collapsed": true
   },
   "source": [
    "### 3. Finally, what is the analytic value of the corporate bond? How does it compare to your MC result above?"
   ]
  },
  {
   "cell_type": "markdown",
   "metadata": {},
   "source": [
    "### Put the analytic expression for the corporate bond price\n",
    "\n",
    "$Price = e^{-10r}F(T>10) + \\int_0^{10} 0.3e^{-tr}P(t)\\, dt$\n",
    "=0.3*0.1/0.13 + np.exp(-1.3)*(1-0.3*10/13) = 0.44040907156462505\n",
    "\n",
    "All MC results are fairly close the analitical results, while the antithetic and mean-matched MC method defitinely delivers the most stable simulating results."
   ]
  },
  {
   "cell_type": "code",
   "execution_count": null,
   "metadata": {},
   "outputs": [],
   "source": []
  }
 ],
 "metadata": {
  "anaconda-cloud": {},
  "kernelspec": {
   "display_name": "Python 3",
   "language": "python",
   "name": "python3"
  },
  "language_info": {
   "codemirror_mode": {
    "name": "ipython",
    "version": 3
   },
   "file_extension": ".py",
   "mimetype": "text/x-python",
   "name": "python",
   "nbconvert_exporter": "python",
   "pygments_lexer": "ipython3",
   "version": "3.7.3"
  }
 },
 "nbformat": 4,
 "nbformat_minor": 1
}

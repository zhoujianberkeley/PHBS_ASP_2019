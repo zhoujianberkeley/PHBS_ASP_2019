{
 "cells": [
  {
   "cell_type": "markdown",
   "metadata": {},
   "source": [
    "# Black Scholes in MC"
   ]
  },
  {
   "cell_type": "code",
   "execution_count": 1,
   "metadata": {
    "collapsed": true
   },
   "outputs": [],
   "source": [
    "import numpy as np\n",
    "import matplotlib.pyplot as plt"
   ]
  },
  {
   "cell_type": "code",
   "execution_count": null,
   "metadata": {
    "collapsed": true
   },
   "outputs": [],
   "source": []
  },
  {
   "cell_type": "code",
   "execution_count": 2,
   "metadata": {
    "collapsed": true
   },
   "outputs": [],
   "source": [
    "sig = 0.2\n",
    "texp = 1\n",
    "spot = 100"
   ]
  },
  {
   "cell_type": "code",
   "execution_count": 3,
   "metadata": {
    "collapsed": true
   },
   "outputs": [],
   "source": [
    "# Generate random numbers\n",
    "z = np.random.normal(size=100000)\n",
    "#anti-thetic"
   ]
  },
  {
   "cell_type": "code",
   "execution_count": 4,
   "metadata": {},
   "outputs": [
    {
     "name": "stdout",
     "output_type": "stream",
     "text": [
      "[  85.0301664   105.52644678   85.63751264 ...,   95.11727375  120.92671385\n",
      "  107.26870868]\n"
     ]
    }
   ],
   "source": [
    "# Black-Scholes-Merton model (Geometric BM)\n",
    "s_bsm = spot * np.exp(-0.5*(sig**2)*texp + sig*np.sqrt(texp)*z)\n",
    "print(s_bsm)"
   ]
  },
  {
   "cell_type": "code",
   "execution_count": 5,
   "metadata": {
    "scrolled": true
   },
   "outputs": [
    {
     "data": {
      "image/png": "[encoded data removed]",
      "text/plain": [
       "<matplotlib.figure.Figure at 0x7bf5f60>"
      ]
     },
     "metadata": {},
     "output_type": "display_data"
    }
   ],
   "source": [
    "# the histogram of the data\n",
    "n, bins, patches = plt.hist(s_bsm, 50, normed=1, facecolor='green', alpha=0.7)\n",
    "plt.grid(True)\n",
    "plt.show()"
   ]
  },
  {
   "cell_type": "code",
   "execution_count": 6,
   "metadata": {},
   "outputs": [
    {
     "name": "stdout",
     "output_type": "stream",
     "text": [
      "7.09326805423\n"
     ]
    }
   ],
   "source": [
    "### Price a call option\n",
    "\n",
    "strike = 102\n",
    "#cp_sign = 1\n",
    "price = np.mean(np.fmax(s_bsm - strike, 0))\n",
    "print( price )"
   ]
  },
  {
   "cell_type": "code",
   "execution_count": 7,
   "metadata": {},
   "outputs": [
    {
     "name": "stdout",
     "output_type": "stream",
     "text": [
      "6.85008997085\n"
     ]
    }
   ],
   "source": [
    "### Can price different options without extra computation\n",
    "\n",
    "strike = 98\n",
    "cp_sign = -1\n",
    "price = np.mean(np.fmax(cp_sign*(s_bsm - strike), 0))\n",
    "print( price )"
   ]
  },
  {
   "cell_type": "code",
   "execution_count": 8,
   "metadata": {},
   "outputs": [],
   "source": [
    "# Bachelier model (Arithematic BM)\n",
    "\n",
    "s_norm = spot + (spot*sig) * np.sqrt(texp) * z"
   ]
  },
  {
   "cell_type": "code",
   "execution_count": 9,
   "metadata": {},
   "outputs": [
    {
     "name": "stdout",
     "output_type": "stream",
     "text": [
      "7.0297165438\n"
     ]
    }
   ],
   "source": [
    "strike = 102\n",
    "cp_sign = 1\n",
    "price = np.mean(np.fmax(s_norm - strike, 0))\n",
    "print( price )"
   ]
  },
  {
   "cell_type": "code",
   "execution_count": 10,
   "metadata": {},
   "outputs": [
    {
     "name": "stdout",
     "output_type": "stream",
     "text": [
      "6.93041107932\n"
     ]
    }
   ],
   "source": [
    "strike = 98\n",
    "cp_sign = -1\n",
    "price = np.mean(np.fmax(cp_sign*(s_norm - strike), 0))\n",
    "print( price )"
   ]
  },
  {
   "cell_type": "code",
   "execution_count": null,
   "metadata": {
    "collapsed": true
   },
   "outputs": [],
   "source": []
  },
  {
   "cell_type": "code",
   "execution_count": null,
   "metadata": {
    "collapsed": true
   },
   "outputs": [],
   "source": []
  }
 ],
 "metadata": {
  "anaconda-cloud": {},
  "kernelspec": {
   "display_name": "Python 3",
   "language": "python",
   "name": "python3"
  },
  "language_info": {
   "codemirror_mode": {
    "name": "ipython",
    "version": 3
   },
   "file_extension": ".py",
   "mimetype": "text/x-python",
   "name": "python",
   "nbconvert_exporter": "python",
   "pygments_lexer": "ipython3",
   "version": "3.7.3"
  }
 },
 "nbformat": 4,
 "nbformat_minor": 1
}

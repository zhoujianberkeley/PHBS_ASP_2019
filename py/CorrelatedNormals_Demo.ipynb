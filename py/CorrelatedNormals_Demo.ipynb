{
 "cells": [
  {
   "cell_type": "markdown",
   "metadata": {},
   "source": [
    "# Correlated (multivariate) normal random variables"
   ]
  },
  {
   "cell_type": "code",
   "execution_count": 2,
   "metadata": {},
   "outputs": [],
   "source": [
    "import numpy as np"
   ]
  },
  {
   "cell_type": "code",
   "execution_count": null,
   "metadata": {},
   "outputs": [],
   "source": []
  },
  {
   "cell_type": "code",
   "execution_count": 3,
   "metadata": {},
   "outputs": [
    {
     "name": "stdout",
     "output_type": "stream",
     "text": [
      "[2 5 2] \n",
      " [[ 1.   0.7 -0.2]\n",
      " [ 0.7  1.   0.5]\n",
      " [-0.2  0.5  1. ]]\n"
     ]
    }
   ],
   "source": [
    "# Sigma (std) and correlation \n",
    "sig_v = np.array([2, 5, 2])\n",
    "cor_m = np.array([[1, 0.7, -0.2], [0.7, 1, 0.5], [-0.2, 0.5, 1]])\n",
    "print(sig_v, '\\n', cor_m)"
   ]
  },
  {
   "cell_type": "markdown",
   "metadata": {},
   "source": [
    "### Construct Covariance Matrix"
   ]
  },
  {
   "cell_type": "code",
   "execution_count": 6,
   "metadata": {},
   "outputs": [
    {
     "data": {
      "text/plain": [
       "array([[2],\n",
       "       [5],\n",
       "       [2]])"
      ]
     },
     "execution_count": 6,
     "metadata": {},
     "output_type": "execute_result"
    }
   ],
   "source": [
    "np.reshape(sig_v,(3,1))"
   ]
  },
  {
   "cell_type": "code",
   "execution_count": 8,
   "metadata": {},
   "outputs": [
    {
     "name": "stdout",
     "output_type": "stream",
     "text": [
      "[[ 2.   3.5 -0.4]\n",
      " [ 1.4  5.   1. ]\n",
      " [-0.4  2.5  2. ]]\n"
     ]
    }
   ],
   "source": [
    "cov_m = sig_v * cor_m #* np.reshape(sig_v,(3,1))\n",
    "print(cov_m)"
   ]
  },
  {
   "cell_type": "code",
   "execution_count": 9,
   "metadata": {},
   "outputs": [
    {
     "name": "stdout",
     "output_type": "stream",
     "text": [
      "[[ 4.   7.  -0.8]\n",
      " [ 7.  25.   5. ]\n",
      " [-0.8  5.   4. ]]\n"
     ]
    }
   ],
   "source": [
    "cov_m = sig_v * cor_m * np.reshape(sig_v,(3,1))\n",
    "print(cov_m)"
   ]
  },
  {
   "cell_type": "markdown",
   "metadata": {
    "collapsed": true
   },
   "source": [
    "### Cholesky decomposition of covariance matrix"
   ]
  },
  {
   "cell_type": "code",
   "execution_count": 9,
   "metadata": {
    "scrolled": true
   },
   "outputs": [
    {
     "name": "stdout",
     "output_type": "stream",
     "text": [
      "[[ 2.          0.          0.        ]\n",
      " [ 3.5         3.57071421  0.        ]\n",
      " [-0.4         1.79235851  0.79211803]]\n"
     ]
    }
   ],
   "source": [
    "chol_m = np.linalg.cholesky(cov_m)\n",
    "print(chol_m)"
   ]
  },
  {
   "cell_type": "code",
   "execution_count": 10,
   "metadata": {},
   "outputs": [
    {
     "name": "stdout",
     "output_type": "stream",
     "text": [
      "[[ 4.   7.  -0.8]\n",
      " [ 7.  25.   5. ]\n",
      " [-0.8  5.   4. ]] \n",
      "\n",
      "[[0. 0. 0.]\n",
      " [0. 0. 0.]\n",
      " [0. 0. 0.]]\n"
     ]
    }
   ],
   "source": [
    "# Let's verify that L x L^T = Covariance\n",
    "\n",
    "print( chol_m @ chol_m.transpose(), '\\n' )\n",
    "print( chol_m @ chol_m.transpose() - cov_m )"
   ]
  },
  {
   "cell_type": "code",
   "execution_count": 17,
   "metadata": {},
   "outputs": [
    {
     "data": {
      "text/plain": [
       "array([[-1.37046023,  0.86956376, -0.63140452, ..., -0.69904821,\n",
       "        -0.24070039,  0.21470762],\n",
       "       [-1.76507528, -1.08103786,  1.75530624, ..., -0.43042879,\n",
       "        -0.6837158 ,  1.90447716],\n",
       "       [ 0.37168667,  0.83320175, -0.17904995, ..., -0.7465378 ,\n",
       "        -0.10368163, -1.4164211 ]])"
      ]
     },
     "execution_count": 17,
     "metadata": {},
     "output_type": "execute_result"
    }
   ],
   "source": [
    "# Now let's create multivariate normal random variables following the covariance matrix\n",
    "# First, create standard normals (1000x3)\n",
    "\n",
    "znorm_m = np.random.normal(size=(3, 10000))\n",
    "znorm_m"
   ]
  },
  {
   "cell_type": "code",
   "execution_count": 18,
   "metadata": {},
   "outputs": [
    {
     "data": {
      "text/plain": [
       "array([[ 0.99188171, -0.00483866, -0.01526465],\n",
       "       [-0.00483866,  0.99756529,  0.02105408],\n",
       "       [-0.01526465,  0.02105408,  0.99980028]])"
      ]
     },
     "execution_count": 18,
     "metadata": {},
     "output_type": "execute_result"
    }
   ],
   "source": [
    "np.cov(znorm_m)"
   ]
  },
  {
   "cell_type": "code",
   "execution_count": 19,
   "metadata": {},
   "outputs": [
    {
     "data": {
      "text/plain": [
       "array([[ -2.74092047,   1.73912753,  -1.26280904, ...,  -1.39809643,\n",
       "         -0.48140078,   0.42941524],\n",
       "       [-11.0991902 ,  -0.81660407,   4.05778112, ...,  -3.98360696,\n",
       "         -3.28380509,   7.55182034],\n",
       "       [ -2.32104388,  -1.62543877,   3.25687118, ...,  -1.08320948,\n",
       "         -1.21131177,   2.20565009]])"
      ]
     },
     "execution_count": 19,
     "metadata": {},
     "output_type": "execute_result"
    }
   ],
   "source": [
    "# Then multiply C^T\n",
    "\n",
    "#xnorm_m = znorm_m @ chol_m.transpose()\n",
    "xnorm_m = chol_m @ znorm_m\n",
    "xnorm_m"
   ]
  },
  {
   "cell_type": "code",
   "execution_count": 21,
   "metadata": {
    "scrolled": true
   },
   "outputs": [
    {
     "name": "stdout",
     "output_type": "stream",
     "text": [
      "[[ 4.   7.  -0.8]\n",
      " [ 7.  25.   5. ]\n",
      " [-0.8  5.   4. ]]\n",
      "Cov from sample:\n",
      " [[ 3.96752684  6.90861707 -0.83503339]\n",
      " [ 6.90861707 24.74856623  4.98957033]\n",
      " [-0.83503339  4.98957033  4.0671488 ]]\n",
      "Error of Cov matrix:\n",
      " [[-0.03247316 -0.09138293 -0.03503339]\n",
      " [-0.09138293 -0.25143377 -0.01042967]\n",
      " [-0.03503339 -0.01042967  0.0671488 ]]\n"
     ]
    }
   ],
   "source": [
    "# Let's verify that X = C * Z  follows the covariance\n",
    "print(cov_m)\n",
    "cov_m_sample = np.cov( xnorm_m )\n",
    "print( 'Cov from sample:\\n', cov_m_sample )\n",
    "print( 'Error of Cov matrix:\\n', cov_m_sample - cov_m )"
   ]
  },
  {
   "cell_type": "code",
   "execution_count": 22,
   "metadata": {},
   "outputs": [
    {
     "name": "stdout",
     "output_type": "stream",
     "text": [
      "[[ 1.   0.7 -0.2]\n",
      " [ 0.7  1.   0.5]\n",
      " [-0.2  0.5  1. ]]\n",
      "Corr from sample:\n",
      " [[ 1.          0.69719805 -0.20787338]\n",
      " [ 0.69719805  1.          0.49732821]\n",
      " [-0.20787338  0.49732821  1.        ]]\n",
      "Error:\n",
      " [[-1.11022302e-16 -2.80195240e-03 -7.87337922e-03]\n",
      " [-2.80195240e-03  0.00000000e+00 -2.67178881e-03]\n",
      " [-7.87337922e-03 -2.67178881e-03  0.00000000e+00]]\n"
     ]
    }
   ],
   "source": [
    "# also check the correation\n",
    "print(cor_m)\n",
    "cor_m_sample = np.corrcoef( xnorm_m )\n",
    "print( 'Corr from sample:\\n', cor_m_sample )\n",
    "print( 'Error:\\n', cor_m_sample - cor_m )"
   ]
  },
  {
   "cell_type": "code",
   "execution_count": null,
   "metadata": {
    "collapsed": true
   },
   "outputs": [],
   "source": []
  }
 ],
 "metadata": {
  "anaconda-cloud": {},
  "kernelspec": {
   "display_name": "Python 3",
   "language": "python",
   "name": "python3"
  },
  "language_info": {
   "codemirror_mode": {
    "name": "ipython",
    "version": 3
   },
   "file_extension": ".py",
   "mimetype": "text/x-python",
   "name": "python",
   "nbconvert_exporter": "python",
   "pygments_lexer": "ipython3",
   "version": "3.7.3"
  }
 },
 "nbformat": 4,
 "nbformat_minor": 1
}

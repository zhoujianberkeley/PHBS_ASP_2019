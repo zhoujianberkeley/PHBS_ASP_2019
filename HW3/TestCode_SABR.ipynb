{
 "cells": [
  {
   "cell_type": "markdown",
   "metadata": {
    "collapsed": true
   },
   "source": [
    "# SABR Model Test Code"
   ]
  },
  {
   "cell_type": "code",
   "execution_count": 1,
   "metadata": {},
   "outputs": [],
   "source": [
    "import imp\n",
    "import numpy as np\n",
    "import matplotlib.pyplot as plt\n",
    "import option_models as opt"
   ]
  },
  {
   "cell_type": "code",
   "execution_count": 2,
   "metadata": {},
   "outputs": [],
   "source": [
    "### only run this when you changed the class definition\n",
    "CODE_CHANGED = False\n",
    "if( CODE_CHANGED ):\n",
    "    imp.reload(opt)"
   ]
  },
  {
   "cell_type": "markdown",
   "metadata": {},
   "source": [
    "## 1. Pricing using Hagan's formula (provided)"
   ]
  },
  {
   "cell_type": "markdown",
   "metadata": {},
   "source": [
    "### (1) SABR for $0<\\beta\\le 1$"
   ]
  },
  {
   "cell_type": "code",
   "execution_count": 3,
   "metadata": {},
   "outputs": [],
   "source": [
    "# Parameters\n",
    "strike = np.linspace(75,125,num=25)\n",
    "# strike = 110 # should work for scalar value \n",
    "forward = 100\n",
    "sigma = 0.2\n",
    "texp = 1\n",
    "alpha = 0.3\n",
    "rho = 0.25\n",
    "beta = 1"
   ]
  },
  {
   "cell_type": "code",
   "execution_count": 4,
   "metadata": {},
   "outputs": [
    {
     "data": {
      "text/plain": [
       "{'beta': 1,\n",
       " 'texp': 1,\n",
       " 'sigma': 0.2,\n",
       " 'alpha': 0.3,\n",
       " 'rho': 0.25,\n",
       " 'intr': 0,\n",
       " 'divr': 0,\n",
       " 'bsm_model': <option_models.bsm.Model at 0x1a22bddc88>}"
      ]
     },
     "execution_count": 4,
     "metadata": {},
     "output_type": "execute_result"
    }
   ],
   "source": [
    "# Create model\n",
    "sabr_bsm = opt.sabr.ModelHagan(texp, sigma, alpha=alpha, rho=rho, beta=beta)\n",
    "sabr_bsm.__dict__"
   ]
  },
  {
   "cell_type": "code",
   "execution_count": 5,
   "metadata": {},
   "outputs": [
    {
     "name": "stderr",
     "output_type": "stream",
     "text": [
      "/Users/jianzhou/Desktop/Peking University/applied stochastic process/2019.M1.ASP/HW3/option_models/sabr.py:44: FutureWarning: Using a non-tuple sequence for multidimensional indexing is deprecated; use `arr[tuple(seq)]` instead of `arr[seq]`. In the future this will be interpreted as an array index, `arr[np.array(seq)]`, which will result either in an error or a different result.\n",
      "  xx_zz[ind] = np.log( (yy[[ind]] + (zz[ind]-rho))/(1-rho) ) / zz[ind]\n"
     ]
    },
    {
     "data": {
      "text/plain": [
       "(array([25.54990056, 23.6710906 , 21.84772723, 20.08808242, 18.39998119,\n",
       "        16.79046024, 15.26547396, 13.82967094, 12.48625486, 11.23693323,\n",
       "        10.08194855,  9.0201795 ,  8.0492952 ,  7.16594441,  6.36596195,\n",
       "         5.64457698,  4.99661108,  4.41665739,  3.8992357 ,  3.43892089,\n",
       "         3.03044477,  2.66877274,  2.34915782,  2.06717523,  1.81874082]),\n",
       " array([0.19740451, 0.19730124, 0.19731138, 0.19742763, 0.19764276,\n",
       "        0.19794962, 0.19834124, 0.19881083, 0.19935186, 0.19995804,\n",
       "        0.2006234 , 0.20134229, 0.20210938, 0.20291966, 0.2037685 ,\n",
       "        0.20465155, 0.20556483, 0.20650464, 0.2074676 , 0.20845059,\n",
       "        0.20945078, 0.21046559, 0.21149265, 0.21252984, 0.21357521]))"
      ]
     },
     "execution_count": 5,
     "metadata": {},
     "output_type": "execute_result"
    }
   ],
   "source": [
    "# This is how you price. you can get either price or bsm_vol\n",
    "price = sabr_bsm.price(strike, forward)\n",
    "bsm_vol = sabr_bsm.bsm_vol(strike, forward)\n",
    "\n",
    "price, bsm_vol"
   ]
  },
  {
   "cell_type": "code",
   "execution_count": 6,
   "metadata": {},
   "outputs": [
    {
     "data": {
      "image/png": "[encoded data removed]",
      "text/plain": [
       "<Figure size 432x288 with 1 Axes>"
      ]
     },
     "metadata": {
      "needs_background": "light"
     },
     "output_type": "display_data"
    }
   ],
   "source": [
    "# volatility smile plot: try with different parameters\n",
    "plt.plot(strike, bsm_vol, 'ro')\n",
    "#plt.axis([0, 6, 0, 20])\n",
    "plt.ylabel('BSM Imp Vol under SABR')\n",
    "plt.xlabel('Strike')\n",
    "plt.grid()\n",
    "plt.show()"
   ]
  },
  {
   "cell_type": "code",
   "execution_count": 7,
   "metadata": {},
   "outputs": [
    {
     "data": {
      "text/plain": [
       "0.19999999999936008"
      ]
     },
     "execution_count": 7,
     "metadata": {},
     "output_type": "execute_result"
    }
   ],
   "source": [
    "# implied vol (sigma in this case)\n",
    "# you should get back the original sigma\n",
    "sabr_bsm.impvol(price[11], strike[11], forward)"
   ]
  },
  {
   "cell_type": "markdown",
   "metadata": {},
   "source": [
    "### (2) SABR for $\\beta=0$"
   ]
  },
  {
   "cell_type": "code",
   "execution_count": 8,
   "metadata": {},
   "outputs": [],
   "source": [
    "strike = np.linspace(75,125,num=25)\n",
    "#strike = 1\n",
    "forward = 100\n",
    "sigma = 20\n",
    "texp = 1\n",
    "alpha = 0.5\n",
    "rho = -0.25\n",
    "beta = 0"
   ]
  },
  {
   "cell_type": "code",
   "execution_count": 9,
   "metadata": {},
   "outputs": [],
   "source": [
    "nvol = opt.sabr.norm_vol(strike, forward, texp, sigma, alpha=alpha, rho=rho)"
   ]
  },
  {
   "cell_type": "code",
   "execution_count": 10,
   "metadata": {},
   "outputs": [
    {
     "data": {
      "image/png": "[encoded data removed]",
      "text/plain": [
       "<Figure size 432x288 with 1 Axes>"
      ]
     },
     "metadata": {
      "needs_background": "light"
     },
     "output_type": "display_data"
    }
   ],
   "source": [
    "plt.plot(strike, nvol, 'ro')\n",
    "#plt.axis([0, 6, 0, 20])\n",
    "plt.ylabel('Normal Imp Vol under SABR')\n",
    "plt.xlabel('Strike')\n",
    "plt.grid()\n",
    "plt.show()"
   ]
  },
  {
   "cell_type": "code",
   "execution_count": 11,
   "metadata": {},
   "outputs": [
    {
     "data": {
      "text/plain": [
       "{'beta': 0.0,\n",
       " 'texp': 1,\n",
       " 'sigma': 20,\n",
       " 'alpha': 0.5,\n",
       " 'rho': -0.25,\n",
       " 'intr': 0,\n",
       " 'divr': 0,\n",
       " 'normal_model': <option_models.normal.Model at 0x1a22b70c50>}"
      ]
     },
     "execution_count": 11,
     "metadata": {},
     "output_type": "execute_result"
    }
   ],
   "source": [
    "sabr_norm = opt.sabr.ModelNormalHagan(texp, sigma, alpha=alpha, rho=rho)\n",
    "sabr_norm.__dict__"
   ]
  },
  {
   "cell_type": "code",
   "execution_count": 12,
   "metadata": {},
   "outputs": [
    {
     "data": {
      "text/plain": [
       "(array([26.59695921, 24.75853528, 22.95673964, 21.19638261, 19.4826555 ,\n",
       "        17.82107839, 16.21741812, 14.67757267, 13.20742012, 11.81263312,\n",
       "        10.49846428,  9.26951283,  8.12948788,  7.08098803,  6.12531972,\n",
       "         5.26237563,  4.49059068,  3.80698489,  3.20729256,  2.68616625,\n",
       "         2.23743499,  1.85439056,  1.53007481,  1.2575435 ,  1.03008923]),\n",
       " array([22.898288  , 22.63620745, 22.38073263, 22.1326082 , 21.89263645,\n",
       "        21.66167534, 21.44063425, 21.2304669 , 21.03216098, 20.84672415,\n",
       "        20.67516621, 20.5184775 , 20.37760417, 20.25342105, 20.1467038 ,\n",
       "        20.05810179, 19.98811408, 19.93707021, 19.9051177 , 19.89221722,\n",
       "        19.89814614, 19.92250965, 19.9647587 , 20.02421277, 20.10008575]))"
      ]
     },
     "execution_count": 12,
     "metadata": {},
     "output_type": "execute_result"
    }
   ],
   "source": [
    "price = sabr_norm.price(strike, forward)\n",
    "norm_vol = sabr_norm.norm_vol(strike, forward)\n",
    "price, norm_vol"
   ]
  },
  {
   "cell_type": "code",
   "execution_count": 13,
   "metadata": {
    "scrolled": true
   },
   "outputs": [
    {
     "data": {
      "text/plain": [
       "19.999999999999922"
      ]
     },
     "execution_count": 13,
     "metadata": {},
     "output_type": "execute_result"
    }
   ],
   "source": [
    "# implied vol (e.g. sigma)\n",
    "sabr_norm.impvol(price[11], strike[11], forward)"
   ]
  },
  {
   "cell_type": "markdown",
   "metadata": {},
   "source": [
    "### (3) Smile calibration to 3 options"
   ]
  },
  {
   "cell_type": "code",
   "execution_count": 14,
   "metadata": {},
   "outputs": [
    {
     "data": {
      "text/plain": [
       "(array([14.37778096,  8.12948788,  3.9368394 ]),\n",
       " array([21.18982474, 20.37760417, 19.94575372]))"
      ]
     },
     "execution_count": 14,
     "metadata": {},
     "output_type": "execute_result"
    }
   ],
   "source": [
    "strike3 = np.array([90, 100, 110])\n",
    "price3 = sabr_norm.price(strike3, forward)\n",
    "norm_vol3 = sabr_norm.norm_vol(strike3, forward)\n",
    "\n",
    "price3, norm_vol3"
   ]
  },
  {
   "cell_type": "code",
   "execution_count": 15,
   "metadata": {},
   "outputs": [
    {
     "data": {
      "text/plain": [
       "{'beta': 0.0,\n",
       " 'texp': 1,\n",
       " 'sigma': 20,\n",
       " 'alpha': 0.5,\n",
       " 'rho': -0.25,\n",
       " 'intr': 0,\n",
       " 'divr': 0,\n",
       " 'normal_model': <option_models.normal.Model at 0x1a22b70c50>}"
      ]
     },
     "execution_count": 15,
     "metadata": {},
     "output_type": "execute_result"
    }
   ],
   "source": [
    "sabr_norm.__dict__"
   ]
  },
  {
   "cell_type": "code",
   "execution_count": 16,
   "metadata": {},
   "outputs": [
    {
     "data": {
      "text/plain": [
       "array([21.18982474, 20.37760417, 19.94575372])"
      ]
     },
     "execution_count": 16,
     "metadata": {},
     "output_type": "execute_result"
    }
   ],
   "source": [
    "norm_vol3"
   ]
  },
  {
   "cell_type": "code",
   "execution_count": 17,
   "metadata": {},
   "outputs": [
    {
     "data": {
      "text/plain": [
       "array([ 90, 100, 110])"
      ]
     },
     "execution_count": 17,
     "metadata": {},
     "output_type": "execute_result"
    }
   ],
   "source": [
    "strike3"
   ]
  },
  {
   "cell_type": "code",
   "execution_count": 18,
   "metadata": {},
   "outputs": [
    {
     "data": {
      "text/plain": [
       "array([20.  ,  0.5 , -0.25])"
      ]
     },
     "execution_count": 18,
     "metadata": {},
     "output_type": "execute_result"
    }
   ],
   "source": [
    "# makre sure this return the original sigma, alpha, rho\n",
    "sabr_norm.calibrate3(norm_vol3, strike3, forward, is_vol=True)"
   ]
  },
  {
   "cell_type": "code",
   "execution_count": 19,
   "metadata": {},
   "outputs": [
    {
     "data": {
      "text/plain": [
       "array([20.  ,  0.5 , -0.25])"
      ]
     },
     "execution_count": 19,
     "metadata": {},
     "output_type": "execute_result"
    }
   ],
   "source": [
    "# makre sure this return the original sigma, alpha, rho\n",
    "sabr_norm.calibrate3(price3, strike3, forward, is_vol=False)"
   ]
  },
  {
   "cell_type": "markdown",
   "metadata": {},
   "source": [
    "Below is same for sabr_bsm"
   ]
  },
  {
   "cell_type": "code",
   "execution_count": 20,
   "metadata": {},
   "outputs": [
    {
     "data": {
      "text/plain": [
       "(array([13.55352055,  8.0492952 ,  4.52747026]),\n",
       " array([0.19891353, 0.20210938, 0.20631472]))"
      ]
     },
     "execution_count": 20,
     "metadata": {},
     "output_type": "execute_result"
    }
   ],
   "source": [
    "strike3 = np.array([90, 100, 110])\n",
    "price3 = price = sabr_bsm.price(strike3, forward)\n",
    "bsm_vol3 = sabr_bsm.bsm_vol(strike3, forward)\n",
    "\n",
    "price3, bsm_vol3"
   ]
  },
  {
   "cell_type": "code",
   "execution_count": 21,
   "metadata": {},
   "outputs": [
    {
     "data": {
      "text/plain": [
       "array([0.20210927, 0.00263994, 0.28215023])"
      ]
     },
     "execution_count": 21,
     "metadata": {},
     "output_type": "execute_result"
    }
   ],
   "source": [
    "# makre sure this return the original sigma, alpha, rho\n",
    "sabr_norm.calibrate3(bsm_vol3, strike3, forward, is_vol=True)"
   ]
  },
  {
   "cell_type": "code",
   "execution_count": 22,
   "metadata": {},
   "outputs": [
    {
     "data": {
      "text/plain": [
       "array([20.07585595,  0.41872216,  0.6616001 ])"
      ]
     },
     "execution_count": 22,
     "metadata": {},
     "output_type": "execute_result"
    }
   ],
   "source": [
    "# makre sure this return the original sigma, alpha, rho\n",
    "sabr_norm.calibrate3(price3, strike3, forward, is_vol=False)"
   ]
  },
  {
   "cell_type": "code",
   "execution_count": 23,
   "metadata": {},
   "outputs": [
    {
     "data": {
      "text/plain": [
       "{'beta': 0.0,\n",
       " 'texp': 1,\n",
       " 'sigma': 20,\n",
       " 'alpha': 0.5,\n",
       " 'rho': -0.25,\n",
       " 'intr': 0,\n",
       " 'divr': 0,\n",
       " 'normal_model': <option_models.normal.Model at 0x1a22b70c50>}"
      ]
     },
     "execution_count": 23,
     "metadata": {},
     "output_type": "execute_result"
    }
   ],
   "source": [
    "sabr_norm.__dict__"
   ]
  },
  {
   "cell_type": "markdown",
   "metadata": {},
   "source": [
    "## 2. Pricing under MC method"
   ]
  },
  {
   "cell_type": "code",
   "execution_count": 24,
   "metadata": {},
   "outputs": [],
   "source": [
    "strike = np.linspace(75,125,num=25)\n",
    "forward = 100"
   ]
  },
  {
   "cell_type": "code",
   "execution_count": 25,
   "metadata": {},
   "outputs": [
    {
     "name": "stdout",
     "output_type": "stream",
     "text": [
      "{'beta': 1, 'texp': 1, 'sigma': 0.2, 'alpha': 0.3, 'rho': 0.25, 'intr': 0, 'divr': 0, 'bsm_model': <option_models.bsm.Model object at 0x1a22bddc88>}\n"
     ]
    }
   ],
   "source": [
    "# instantiate mc model from the hagan model's parameters\n",
    "print(sabr_bsm.__dict__)\n",
    "sabr_bsm_mc = opt.sabr.ModelBsmMC(sabr_bsm.texp, sabr_bsm.sigma, \n",
    "                                  alpha=sabr_bsm.alpha, rho=sabr_bsm.rho, beta=sabr_bsm.beta)"
   ]
  },
  {
   "cell_type": "code",
   "execution_count": 26,
   "metadata": {},
   "outputs": [
    {
     "data": {
      "text/plain": [
       "(array([25.54990056, 23.6710906 , 21.84772723, 20.08808242, 18.39998119,\n",
       "        16.79046024, 15.26547396, 13.82967094, 12.48625486, 11.23693323,\n",
       "        10.08194855,  9.0201795 ,  8.0492952 ,  7.16594441,  6.36596195,\n",
       "         5.64457698,  4.99661108,  4.41665739,  3.8992357 ,  3.43892089,\n",
       "         3.03044477,  2.66877274,  2.34915782,  2.06717523,  1.81874082]),\n",
       " array([26.37864959, 24.47504   , 22.61215195, 20.81532702, 19.10179656,\n",
       "        17.4820198 , 15.94563281, 14.48472677, 13.13075743, 11.87297318,\n",
       "        10.70032114,  9.62660086,  8.64040974,  7.73973268,  6.91834835,\n",
       "         6.17219951,  5.49253332,  4.86298331,  4.28009969,  3.74839423,\n",
       "         3.2813991 ,  2.88270953,  2.52939299,  2.21527729,  1.93845884]))"
      ]
     },
     "execution_count": 26,
     "metadata": {},
     "output_type": "execute_result"
    }
   ],
   "source": [
    "price_hagan = sabr_bsm.price(strike, forward)\n",
    "price_mc = sabr_bsm_mc.price(strike, forward)\n",
    "\n",
    "# make sure the two prices are similar\n",
    "price_hagan, price_mc"
   ]
  },
  {
   "cell_type": "markdown",
   "metadata": {},
   "source": [
    "Repeat the same for beta = 0"
   ]
  },
  {
   "cell_type": "code",
   "execution_count": 27,
   "metadata": {},
   "outputs": [
    {
     "name": "stdout",
     "output_type": "stream",
     "text": [
      "{'beta': 0.0, 'texp': 1, 'sigma': 20, 'alpha': 0.5, 'rho': -0.25, 'intr': 0, 'divr': 0, 'normal_model': <option_models.normal.Model object at 0x1a22b70c50>}\n"
     ]
    }
   ],
   "source": [
    "# instantiate mc model from the hagan model's parameters\n",
    "print(sabr_norm.__dict__)\n",
    "sabr_norm_mc = opt.sabr.ModelNormalMC(sabr_norm.texp, sabr_norm.sigma, \n",
    "                                   alpha=sabr_norm.alpha, rho=sabr_norm.rho, beta=sabr_norm.beta)"
   ]
  },
  {
   "cell_type": "code",
   "execution_count": 28,
   "metadata": {},
   "outputs": [
    {
     "data": {
      "text/plain": [
       "(array([26.59695921, 24.75853528, 22.95673964, 21.19638261, 19.4826555 ,\n",
       "        17.82107839, 16.21741812, 14.67757267, 13.20742012, 11.81263312,\n",
       "        10.49846428,  9.26951283,  8.12948788,  7.08098803,  6.12531972,\n",
       "         5.26237563,  4.49059068,  3.80698489,  3.20729256,  2.68616625,\n",
       "         2.23743499,  1.85439056,  1.53007481,  1.2575435 ,  1.03008923]),\n",
       " array([27.47312681, 25.58217758, 23.74084948, 21.9504748 , 20.20537066,\n",
       "        18.50735013, 16.86070363, 15.27805536, 13.76631366, 12.34478339,\n",
       "        11.02196497,  9.80934179,  8.68284148,  7.64023966,  6.69335491,\n",
       "         5.81456531,  5.00599605,  4.27461937,  3.6234906 ,  3.05979551,\n",
       "         2.56778621,  2.13726648,  1.76042095,  1.43925939,  1.16554693]))"
      ]
     },
     "execution_count": 28,
     "metadata": {},
     "output_type": "execute_result"
    }
   ],
   "source": [
    "price_hagan = sabr_norm.price(strike, forward)\n",
    "price_mc = sabr_norm_mc.price(strike, forward)\n",
    "\n",
    "# make sure the two prices are similar\n",
    "price_hagan, price_mc"
   ]
  },
  {
   "cell_type": "code",
   "execution_count": null,
   "metadata": {},
   "outputs": [],
   "source": []
  },
  {
   "cell_type": "markdown",
   "metadata": {
    "collapsed": true
   },
   "source": [
    "## 3. Pricing under conditional MC method"
   ]
  },
  {
   "cell_type": "code",
   "execution_count": 29,
   "metadata": {},
   "outputs": [],
   "source": [
    "strike = np.linspace(75,125,num=25)\n",
    "forward = 100"
   ]
  },
  {
   "cell_type": "code",
   "execution_count": 30,
   "metadata": {},
   "outputs": [
    {
     "name": "stdout",
     "output_type": "stream",
     "text": [
      "{'beta': 1, 'texp': 1, 'sigma': 0.2, 'alpha': 0.3, 'rho': 0.25, 'intr': 0, 'divr': 0, 'bsm_model': <option_models.bsm.Model object at 0x1a22bddc88>}\n"
     ]
    }
   ],
   "source": [
    "# instantiate mc model from the hagan model's parameters\n",
    "print(sabr_bsm.__dict__)\n",
    "sabr_bsm_cmc = opt.sabr.ModelBsmCondMC(sabr_bsm.texp, sabr_bsm.sigma, \n",
    "                                       alpha=sabr_bsm.alpha, rho=sabr_bsm.rho, beta=sabr_bsm.beta)"
   ]
  },
  {
   "cell_type": "code",
   "execution_count": 31,
   "metadata": {},
   "outputs": [
    {
     "data": {
      "text/plain": [
       "(array([25.54990056, 23.6710906 , 21.84772723, 20.08808242, 18.39998119,\n",
       "        16.79046024, 15.26547396, 13.82967094, 12.48625486, 11.23693323,\n",
       "        10.08194855,  9.0201795 ,  8.0492952 ,  7.16594441,  6.36596195,\n",
       "         5.64457698,  4.99661108,  4.41665739,  3.8992357 ,  3.43892089,\n",
       "         3.03044477,  2.66877274,  2.34915782,  2.06717523,  1.81874082]),\n",
       " array([25.47934863, 23.60343813, 21.78329744, 20.02714541, 18.34274031,\n",
       "        16.73704344, 15.21593073, 13.78397462, 12.44430965, 11.19858469,\n",
       "        10.04699633,  8.98839089,  8.02041835,  7.13972033,  6.34213459,\n",
       "         5.62290112,  4.97685797,  4.39861827,  3.88272345,  3.42377022,\n",
       "         3.01651135,  2.6559315 ,  2.3373009 ,  2.05620971,  1.80858649]))"
      ]
     },
     "execution_count": 31,
     "metadata": {},
     "output_type": "execute_result"
    }
   ],
   "source": [
    "price_hagan = sabr_bsm.price(strike, forward)\n",
    "price_mc = sabr_bsm_cmc.price(strike, forward)\n",
    "\n",
    "# make sure the two prices are similar\n",
    "price_hagan, price_mc"
   ]
  },
  {
   "cell_type": "markdown",
   "metadata": {},
   "source": [
    "Repeat the same for beta = 0"
   ]
  },
  {
   "cell_type": "code",
   "execution_count": 32,
   "metadata": {},
   "outputs": [
    {
     "name": "stdout",
     "output_type": "stream",
     "text": [
      "{'beta': 0.0, 'texp': 1, 'sigma': 20, 'alpha': 0.5, 'rho': -0.25, 'intr': 0, 'divr': 0, 'normal_model': <option_models.normal.Model object at 0x1a22b70c50>}\n"
     ]
    }
   ],
   "source": [
    "# instantiate mc model from the hagan model's parameters\n",
    "print(sabr_norm.__dict__)\n",
    "sabr_norm_cmc = opt.sabr.ModelBsmCondMC(sabr_norm.texp, sabr_norm.sigma, alpha=sabr_norm.alpha, \n",
    "                                        rho=sabr_norm.rho, beta=sabr_norm.beta)"
   ]
  },
  {
   "cell_type": "code",
   "execution_count": 33,
   "metadata": {},
   "outputs": [
    {
     "data": {
      "text/plain": [
       "(array([26.59695921, 24.75853528, 22.95673964, 21.19638261, 19.4826555 ,\n",
       "        17.82107839, 16.21741812, 14.67757267, 13.20742012, 11.81263312,\n",
       "        10.49846428,  9.26951283,  8.12948788,  7.08098803,  6.12531972,\n",
       "         5.26237563,  4.49059068,  3.80698489,  3.20729256,  2.68616625,\n",
       "         2.23743499,  1.85439056,  1.53007481,  1.2575435 ,  1.03008923]),\n",
       " array([104.14210088, 104.14210074, 104.14210061, 104.14210048,\n",
       "        104.14210034, 104.14210021, 104.14210009, 104.14209996,\n",
       "        104.14209983, 104.14209971, 104.14209959, 104.14209946,\n",
       "        104.14209934, 104.14209922, 104.14209911, 104.14209899,\n",
       "        104.14209887, 104.14209876, 104.14209864, 104.14209853,\n",
       "        104.14209842, 104.14209831, 104.1420982 , 104.14209809,\n",
       "        104.14209798]))"
      ]
     },
     "execution_count": 33,
     "metadata": {},
     "output_type": "execute_result"
    }
   ],
   "source": [
    "price_hagan = sabr_norm.price(strike, forward)\n",
    "price_mc = sabr_norm_cmc.price(strike, forward)\n",
    "    \n",
    "# make sure the two prices are similar\n",
    "price_hagan, price_mc"
   ]
  },
  {
   "cell_type": "markdown",
   "metadata": {
    "collapsed": true
   },
   "source": [
    "## Compare the MC variance between brute-force MC and conditional MC\n",
    "For this, you should not use the random number seed"
   ]
  },
  {
   "cell_type": "code",
   "execution_count": null,
   "metadata": {},
   "outputs": [],
   "source": []
  }
 ],
 "metadata": {
  "anaconda-cloud": {},
  "kernelspec": {
   "display_name": "Python 3",
   "language": "python",
   "name": "python3"
  },
  "language_info": {
   "codemirror_mode": {
    "name": "ipython",
    "version": 3
   },
   "file_extension": ".py",
   "mimetype": "text/x-python",
   "name": "python",
   "nbconvert_exporter": "python",
   "pygments_lexer": "ipython3",
   "version": "3.7.3"
  }
 },
 "nbformat": 4,
 "nbformat_minor": 1
}
